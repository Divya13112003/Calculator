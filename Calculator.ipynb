{
 "cells": [
  {
   "cell_type": "code",
   "execution_count": 1,
   "id": "dab5b06e-1e1e-4a2c-ac2c-22e8504bc116",
   "metadata": {},
   "outputs": [
    {
     "name": "stdout",
     "output_type": "stream",
     "text": [
      "Python Calculator made by Nolan Welch, 7/21/2017.\n",
      "\n",
      "\n",
      "\n"
     ]
    },
    {
     "name": "stdin",
     "output_type": "stream",
     "text": [
      "Which mathematical function would you like to do? Insert *, /, +, or -. Type HELP for help.   /\n",
      "Enter first number:   799999\n",
      "Enter second number:   3444\n"
     ]
    },
    {
     "name": "stdout",
     "output_type": "stream",
     "text": [
      "The first number divided by the second number is 232.28774680603948\n"
     ]
    },
    {
     "name": "stdin",
     "output_type": "stream",
     "text": [
      "Would you like to use the calculator again?   y\n",
      "Which mathematical function would you like to do? Insert *, /, +, or -. Type HELP for help.   *\n",
      "Enter first number:   59999\n",
      "Enter second number:   0\n"
     ]
    },
    {
     "name": "stdout",
     "output_type": "stream",
     "text": [
      "The product of the first and second number is 0\n"
     ]
    },
    {
     "name": "stdin",
     "output_type": "stream",
     "text": [
      "Would you like to use the calculator again?   n\n"
     ]
    },
    {
     "name": "stdout",
     "output_type": "stream",
     "text": [
      "See you next time!\n"
     ]
    },
    {
     "data": {
      "text/plain": [
       "' This entire program seems to be out of order, but I put some functions before others for the sake of\\n   simplicity in the final code and in an effort to avoid errors.\\n'"
      ]
     },
     "execution_count": 1,
     "metadata": {},
     "output_type": "execute_result"
    }
   ],
   "source": [
    "# This is a simple calculator application.\n",
    "# Nolan Welch\n",
    "import time #This is needed in order to space out the output so the user isn't overwhelmed.\n",
    "time.sleep(1)\n",
    "print(\"Python Calculator made by Nolan Welch, 7/21/2017.\\n\\n\\n\")\n",
    "time.sleep(2.5)\n",
    "# Defining the calculator function, which is used to make all the calculations based on user input\n",
    "def calculator():\n",
    "   var1 = input(\"Enter first number:  \")\n",
    "   var2 = input(\"Enter second number:  \")\n",
    "   if (checkIfInt(var1) and checkIfInt(var2)):\n",
    "       var1 = int(var1)\n",
    "       var2 = int(var2)\n",
    "       if (userInput == \"*\"):\n",
    "           print(\"The product of the first and second number is \" + str(mul(var1, var2)))\n",
    "       elif (userInput == \"/\"):\n",
    "           print(\"The first number divided by the second number is \" + str(div(var1, var2)))\n",
    "       elif (userInput == \"+\"):\n",
    "           print(\"The sum of the first and second numbers is \" + str(add(var1, var2)))\n",
    "       elif(userInput == \"-\"):\n",
    "           print(\"The first number minus the second number is \" + str(sub(var1, var2)))\n",
    "       else:\n",
    "           print(\"Invalid input.\")\n",
    "           time.sleep(2)\n",
    "           main()\n",
    "   else:\n",
    "       print(\"Both inputs must be integers.\\nTaking you back to the calculator...\")\n",
    "       time.sleep(2)\n",
    "       calculator()\n",
    "def add(num1, num2):\n",
    "   return(num1 + num2)\n",
    "def mul(num1, num2):\n",
    "   return(num1 * num2)\n",
    "def div(num1, num2):\n",
    "   return(num1 / num2)\n",
    "def sub(num1, num2):\n",
    "   return(num1 - num2)\n",
    "# Defining a function that checks whether or not the input is an integer(used in the calculator function)\n",
    "def checkIfInt(possibleInt):\n",
    "   try:\n",
    "       val = int(possibleInt)\n",
    "       return True\n",
    "   except ValueError:\n",
    "       return False\n",
    "# After the entire program has been run, this function checks whether or not the user would like to use the calculator again\n",
    "def again():\n",
    "   repeat = input(\"Would you like to use the calculator again?  \").lower()\n",
    "   if(repeat == \"y\" or repeat == \"yes\"):\n",
    "       main()\n",
    "   elif(repeat == \"n\" or repeat == \"no\"):\n",
    "       print(\"See you next time!\")\n",
    "       time.sleep(2)\n",
    "       quit()\n",
    "   else:\n",
    "       while(True):\n",
    "           print(\"Sorry, invalid input.\")\n",
    "           time.sleep(1)\n",
    "           again()\n",
    "def main():\n",
    "   global userInput\n",
    "   userInput = input(\"Which mathematical function would you like to do? Insert *, /, +, or -. Type HELP for help.  \")\n",
    "   if(userInput == \"HELP\"):\n",
    "       print(\"\\n* = Multiplication\\n/ = Division\\n+ = Addition\\n- = Subtraction\")\n",
    "       secondaryInput = input(\"\\nType \\\"BACK\\\" to go back to the calculator.  \")\n",
    "       if (secondaryInput == \"BACK\"):\n",
    "           main()\n",
    "       else:\n",
    "           while(True):\n",
    "               backInput = input(\"Invalid input. Please type \\\"BACK\\\" to return to the calculator.  \")\n",
    "               if(backInput == \"BACK\"):\n",
    "                   main()\n",
    "   # Making sure that the user inputs one of the four accepted operators\n",
    "   elif (userInput != \"*\" and userInput != \"/\" and userInput != \"+\" and userInput != \"-\"):\n",
    "       print(\"Invalid input!\")\n",
    "       time.sleep(2)\n",
    "       main()\n",
    "   else:\n",
    "       calculator()\n",
    "   again()\n",
    "main()\n",
    "\"\"\" This entire program seems to be out of order, but I put some functions before others for the sake of\n",
    "   simplicity in the final code and in an effort to avoid errors.\n",
    "\"\"\"\n"
   ]
  },
  {
   "cell_type": "code",
   "execution_count": null,
   "id": "9bdba28e-541c-4ab8-8201-1141efaf2c30",
   "metadata": {},
   "outputs": [],
   "source": []
  }
 ],
 "metadata": {
  "kernelspec": {
   "display_name": "Python 3 (ipykernel)",
   "language": "python",
   "name": "python3"
  },
  "language_info": {
   "codemirror_mode": {
    "name": "ipython",
    "version": 3
   },
   "file_extension": ".py",
   "mimetype": "text/x-python",
   "name": "python",
   "nbconvert_exporter": "python",
   "pygments_lexer": "ipython3",
   "version": "3.10.8"
  }
 },
 "nbformat": 4,
 "nbformat_minor": 5
}
